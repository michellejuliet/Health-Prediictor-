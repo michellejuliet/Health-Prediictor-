{
  "nbformat": 4,
  "nbformat_minor": 0,
  "metadata": {
    "colab": {
      "provenance": [],
      "authorship_tag": "ABX9TyPJB6QpPtrFbuWO26138oJ2",
      "include_colab_link": true
    },
    "kernelspec": {
      "name": "python3",
      "display_name": "Python 3"
    },
    "language_info": {
      "name": "python"
    }
  },
  "cells": [
    {
      "cell_type": "markdown",
      "metadata": {
        "id": "view-in-github",
        "colab_type": "text"
      },
      "source": [
        "<a href=\"https://colab.research.google.com/github/michellejuliet/Health-Prediictor-/blob/main/LinearRegression.ipynb\" target=\"_parent\"><img src=\"https://colab.research.google.com/assets/colab-badge.svg\" alt=\"Open In Colab\"/></a>"
      ]
    },
    {
      "cell_type": "code",
      "execution_count": 4,
      "metadata": {
        "colab": {
          "base_uri": "https://localhost:8080/"
        },
        "id": "C-yeHWrNRp7t",
        "outputId": "76bcabeb-23bd-439c-cdcf-d850301c9fe8"
      },
      "outputs": [
        {
          "output_type": "stream",
          "name": "stdout",
          "text": [
            "Drive already mounted at /content/drive; to attempt to forcibly remount, call drive.mount(\"/content/drive\", force_remount=True).\n",
            "Logistic Regression Metrics:\n",
            "Accuracy: 72.15%\n",
            "Precision: 74.22%\n",
            "Recall: 67.18%\n",
            "F1-score: 70.52%\n",
            "Class 0:\n",
            "  Precision: 70.46%\n",
            "  Recall: 77.04%\n",
            "  F1-score: 73.60%\n",
            "Class 1:\n",
            "  Precision: 74.22%\n",
            "  Recall: 67.18%\n",
            "  F1-score: 70.52%\n"
          ]
        }
      ],
      "source": [
        "import numpy as np\n",
        "import pandas as pd\n",
        "import seaborn as sns\n",
        "import matplotlib.pyplot as plt\n",
        "import plotly.express as px\n",
        "from sklearn.preprocessing import StandardScaler\n",
        "from sklearn.model_selection import train_test_split\n",
        "from sklearn.metrics import classification_report\n",
        "from sklearn.linear_model import LogisticRegression\n",
        "from sklearn.metrics import accuracy_score, precision_score, recall_score, f1_score\n",
        "\n",
        "# Load the dataset from Google Drive\n",
        "from google.colab import drive\n",
        "drive.mount('/content/drive')\n",
        "\n",
        "path = '/content/drive/MyDrive/Colab Notebooks/cardio_train.csv'\n",
        "cardio_data = pd.read_csv(path, sep=';')\n",
        "\n",
        "# Data Preprocessing\n",
        "cardio_data['age'] = cardio_data['age'] // 365\n",
        "cardio_data.drop('id', axis=1, inplace=True)\n",
        "\n",
        "# Bar Plot - Age vs. Cardiac Disease\n",
        "age_cardio = pd.DataFrame({\n",
        "    'The Cardiac disease by average': cardio_data.groupby('age')['cardio'].mean(numeric_only=True),\n",
        "    'Age': sorted(cardio_data['age'].unique())\n",
        "})\n",
        "px.bar(age_cardio, 'Age', 'The Cardiac disease by average', color='Age',\n",
        "       title='The risk of Cardiac disease by increasing Age')\n",
        "\n",
        "# Bar Plot - Cholesterol vs. Cardiac Disease\n",
        "age_chol = pd.DataFrame({\n",
        "    'The Cardiac disease by average': cardio_data.groupby('cholesterol')['cardio'].mean(numeric_only=True),\n",
        "    'The amount of Cholesterol': ['Normal', 'Above Normal', 'Well Above Normal']\n",
        "})\n",
        "px.bar(age_chol, 'The amount of Cholesterol', 'The Cardiac disease by average',\n",
        "       color='The amount of Cholesterol', title='The risk of Cardiac disease by increasing Cholesterol')\n",
        "\n",
        "# Splitting the data into features (X) and target (y)\n",
        "X = cardio_data.drop('cardio', axis=1)\n",
        "y = cardio_data['cardio']\n",
        "\n",
        "# Feature Scaling\n",
        "ss = StandardScaler()\n",
        "X = ss.fit_transform(X)\n",
        "\n",
        "# Splitting the data into training and testing sets\n",
        "X_train, X_test, y_train, y_test = train_test_split(X, y, random_state=0)\n",
        "\n",
        "# Logistic Regression Model\n",
        "logistic_model = LogisticRegression(max_iter=1000, random_state=0)\n",
        "\n",
        "# Fit the model to the training data\n",
        "logistic_model.fit(X_train, y_train)\n",
        "\n",
        "# Make predictions on the test data\n",
        "logistic_preds = logistic_model.predict(X_test)\n",
        "\n",
        "# # Evaluate the logistic regression model\n",
        "# accuracy = accuracy_score(y_test, logistic_preds)\n",
        "# precision = precision_score(y_test, logistic_preds)\n",
        "# recall = recall_score(y_test, logistic_preds)\n",
        "# f1 = f1_score(y_test, logistic_preds)\n",
        "\n",
        "# print(\"Logistic Regression Metrics:\")\n",
        "# print(f\"Accuracy: {accuracy:.4f}\")\n",
        "# print(f\"Precision: {precision:.4f}\")\n",
        "# print(f\"Recall: {recall:.4f}\")\n",
        "# print(f\"F1-score: {f1:.4f}\")\n",
        "\n",
        "# # Classification Report\n",
        "# print(classification_report(y_test, logistic_preds))\n",
        "\n",
        "# Evaluate the logistic regression model\n",
        "accuracy = accuracy_score(y_test, logistic_preds)\n",
        "precision = precision_score(y_test, logistic_preds)\n",
        "recall = recall_score(y_test, logistic_preds)\n",
        "f1 = f1_score(y_test, logistic_preds)\n",
        "\n",
        "# Print the metrics in percentages\n",
        "print(\"Logistic Regression Metrics:\")\n",
        "print(f\"Accuracy: {accuracy * 100:.2f}%\")\n",
        "print(f\"Precision: {precision * 100:.2f}%\")\n",
        "print(f\"Recall: {recall * 100:.2f}%\")\n",
        "print(f\"F1-score: {f1 * 100:.2f}%\")\n",
        "\n",
        "# Classification Report\n",
        "report = classification_report(y_test, logistic_preds, output_dict=True)\n",
        "for key, value in report.items():\n",
        "    if key.isdigit():\n",
        "        print(f\"Class {key}:\")\n",
        "        print(f\"  Precision: {value['precision'] * 100:.2f}%\")\n",
        "        print(f\"  Recall: {value['recall'] * 100:.2f}%\")\n",
        "        print(f\"  F1-score: {value['f1-score'] * 100:.2f}%\")\n",
        "    # else:\n",
        "    #     print(f\"{key}:\")\n",
        "    #     # print(f\"  Precision: {value['precision'] * 100:.2f}%\")\n",
        "    #     print(f\"  Recall: {value['recall'] * 100:.2f}%\")\n",
        "    #     print(f\"  F1-score: {value['f1-score'] * 100:.2f}%\")"
      ]
    }
  ]
}